{
 "cells": [
  {
   "cell_type": "code",
   "execution_count": 13,
   "metadata": {},
   "outputs": [],
   "source": [
    "import pandas as pd\n",
    "import numpy as np\n",
    "from matplotlib import pyplot as plt\n",
    "\n",
    "# Load in data\n",
    "calculated_df = pd.read_csv('calculated_behaviors_T01_0725.csv')\n",
    "calculated_df.drop(columns=[\"mineral\",\"i\"], inplace=True) # Observed doesn't use mineral\n",
    "\n",
    "observed_df = pd.read_csv('observed_behaviors_T01_0725.csv')\n"
   ]
  },
  {
   "cell_type": "code",
   "execution_count": 14,
   "metadata": {},
   "outputs": [
    {
     "name": "stderr",
     "output_type": "stream",
     "text": [
      "/var/folders/38/kmbpfjjj2lj082z0tz1lz8sm0000gn/T/ipykernel_95144/2129426633.py:17: FutureWarning: DataFrame.fillna with 'method' is deprecated and will raise in a future version. Use obj.ffill() or obj.bfill() instead.\n",
      "  standardized_observed_df.fillna(method='ffill', inplace=True)\n"
     ]
    }
   ],
   "source": [
    "# Change date times into unix time stamps\n",
    "observed_df['datetime'] = pd.to_datetime(observed_df['dt'], format='%Y-%m-%d %H:%M:%S')\n",
    "observed_df['timestamp'] = observed_df['datetime'].astype(int)\n",
    "observed_df['timestamp'] = observed_df['timestamp'].div(10**9)\n",
    "\n",
    "# Fill in missing data\n",
    "start_timestamp = observed_df.iloc[0]['timestamp']\n",
    "end_timestamp = observed_df.iloc[-1]['timestamp']\n",
    "delta = 1\n",
    "\n",
    "timestamp_range = np.arange(start_timestamp,end_timestamp+delta,delta)\n",
    "timestamp_range = np.round(timestamp_range,1)\n",
    "# Add existing data to the full df\n",
    "standardized_observed_df = pd.DataFrame(timestamp_range,columns=['timestamp'])\n",
    "standardized_observed_df = pd.merge(standardized_observed_df,observed_df, how='outer', on='timestamp')\n",
    "# Fill the data with ffil\n",
    "standardized_observed_df.fillna(method='ffill', inplace=True)\n",
    "standardized_observed_df.drop(columns=[\"dt\", \"datetime\"], inplace=True)\n",
    "\n",
    "offset = 3600*5\n",
    "standardized_observed_df[\"timestamp\"] = standardized_observed_df[\"timestamp\"] + offset"
   ]
  },
  {
   "cell_type": "code",
   "execution_count": 15,
   "metadata": {},
   "outputs": [],
   "source": [
    "# All possible behaviors and the associated number\n",
    "behaviors = {\n",
    "    \"feeding\": 1,\n",
    "    \"drinking\": 2,\n",
    "    \"milking\": 3\n",
    "}\n",
    "\n",
    "# Create a generalized behaviors column\n",
    "calculated_df[\"c_behaviors\"] = calculated_df[\"feeding\"]*behaviors[\"feeding\"] + calculated_df[\"drinking\"]*behaviors[\"drinking\"] + calculated_df[\"milking\"]*behaviors[\"milking\"]\n",
    "standardized_observed_df[\"o_behaviors\"] = standardized_observed_df[\"feeding\"]*behaviors[\"feeding\"] + standardized_observed_df[\"drinking\"]*behaviors[\"drinking\"] + standardized_observed_df[\"milking\"]*behaviors[\"milking\"]\n",
    "\n",
    "# Drop uneccessary columns\n",
    "calculated_df.drop(columns=list(behaviors.keys()), inplace=True)\n",
    "standardized_observed_df.drop(columns=list(behaviors.keys()), inplace=True)\n",
    "\n",
    "pd.options.display.float_format = '{:.0f}'.format\n",
    "# print(calculated_df.head)\n",
    "# print(standardized_observed_df.head)\n",
    "\n",
    "df = pd.merge(calculated_df, standardized_observed_df, how=\"outer\", on=\"timestamp\")"
   ]
  },
  {
   "cell_type": "code",
   "execution_count": null,
   "metadata": {},
   "outputs": [],
   "source": [
    "# Plot data\n",
    "plt.figure(figsize=(10,6))\n",
    "plt.plot(df[\"timestamp\"], df[\"o_behaviors\"], label = \"Groundtruth\", color='blue', linestyle='solid')\n",
    "plt.plot(df[\"timestamp\"], df[\"c_behaviors\"], label = \"Prediction\", color='red', linestyle='dashed')\n",
    "\n",
    "plt.legend()\n",
    "plt.xlabel(\"Time Frame\")\n",
    "plt.ylabel(\"Behavior\")\n",
    "plt.yticks([1,2,3], [\"Feeding\", \"Drinking\", \"Milking\"])\n",
    "\n",
    "plt.xlim(standardized_observed_df.iloc[0]['timestamp'], standardized_observed_df.iloc[-1]['timestamp'])\n",
    "\n",
    "plt.title('Comparison of Calculated Behaviors to Visually Observed Behaviors on T01 on 07/25')\n",
    "\n",
    "plt.savefig('Behaviors.png')"
   ]
  }
 ],
 "metadata": {
  "kernelspec": {
   "display_name": "tensorflow_env",
   "language": "python",
   "name": "python3"
  },
  "language_info": {
   "codemirror_mode": {
    "name": "ipython",
    "version": 3
   },
   "file_extension": ".py",
   "mimetype": "text/x-python",
   "name": "python",
   "nbconvert_exporter": "python",
   "pygments_lexer": "ipython3",
   "version": "3.11.6"
  }
 },
 "nbformat": 4,
 "nbformat_minor": 2
}
